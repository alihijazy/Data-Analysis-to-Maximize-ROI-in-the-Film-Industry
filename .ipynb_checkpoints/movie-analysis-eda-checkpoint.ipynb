{
 "cells": [
  {
   "cell_type": "code",
   "execution_count": 1,
   "metadata": {},
   "outputs": [],
   "source": [
    "import pandas as pd\n",
    "import sqlite3\n",
    "import numpy as np\n",
    "import scipy.stats as stats\n",
    "import seaborn as sns\n",
    "import matplotlib.pyplot as plt\n",
    "import warnings \n",
    "warnings.filterwarnings(\"ignore\")"
   ]
  },
  {
   "cell_type": "markdown",
   "metadata": {},
   "source": [
    "## Load in data and clean"
   ]
  },
  {
   "cell_type": "code",
   "execution_count": 2,
   "metadata": {},
   "outputs": [
    {
     "ename": "OperationalError",
     "evalue": "unable to open database file",
     "output_type": "error",
     "traceback": [
      "\u001b[0;31m---------------------------------------------------------------------------\u001b[0m",
      "\u001b[0;31mOperationalError\u001b[0m                          Traceback (most recent call last)",
      "Cell \u001b[0;32mIn[2], line 1\u001b[0m\n\u001b[0;32m----> 1\u001b[0m conn \u001b[38;5;241m=\u001b[39m \u001b[43msqlite3\u001b[49m\u001b[38;5;241;43m.\u001b[39;49m\u001b[43mconnect\u001b[49m\u001b[43m(\u001b[49m\u001b[38;5;124;43m'\u001b[39;49m\u001b[38;5;124;43munzippedData/im.db\u001b[39;49m\u001b[38;5;124;43m'\u001b[39;49m\u001b[43m)\u001b[49m\n",
      "\u001b[0;31mOperationalError\u001b[0m: unable to open database file"
     ]
    }
   ],
   "source": [
    "conn = sqlite3.connect('unzippedData/im.db')"
   ]
  },
  {
   "cell_type": "code",
   "execution_count": null,
   "metadata": {},
   "outputs": [],
   "source": [
    "df_imdb = pd.read_sql(\"\"\"\n",
    "SELECT movie_basics.movie_id, primary_title, runtime_minutes, genres, averagerating, numvotes\n",
    "FROM movie_ratings \n",
    "JOIN movie_basics\n",
    "ON movie_basics.movie_id = movie_ratings.movie_id\n",
    "\"\"\", conn)\n",
    "df_imdb.head()"
   ]
  },
  {
   "cell_type": "code",
   "execution_count": null,
   "metadata": {},
   "outputs": [],
   "source": [
    "df_imdb['genres'] = df_imdb['genres'].str.split(',')\n",
    "df_imdb['complexity'] = df_imdb['genres'].apply(lambda x: len(x) if x is not None else None)\n",
    "df_imdb['complexity']= df_imdb['complexity'].apply(lambda x: 'Low' if x==1 else ('Medium' if x==2 else ('High' if x==3 else None)))\n",
    "df_imdb['complexity'].value_counts(dropna=False)"
   ]
  },
  {
   "cell_type": "code",
   "execution_count": null,
   "metadata": {},
   "outputs": [],
   "source": [
    "print('Dataframe description:')\n",
    "print(df_imdb.describe())\n",
    "print('\\n-----------------------------------------------------------')\n",
    "print('Dataframe info:')\n",
    "print(df_imdb.info())\n",
    "print('\\ndf imdb first 5 rows:')\n",
    "df_imdb.head()"
   ]
  },
  {
   "cell_type": "code",
   "execution_count": null,
   "metadata": {},
   "outputs": [],
   "source": [
    "rt_t13 = df_imdb['runtime_minutes'].quantile(1/3)\n",
    "rt_t23 = df_imdb['runtime_minutes'].quantile(2/3)\n",
    "\n",
    "df_imdb['rt_cat']= df_imdb['runtime_minutes'].apply(lambda x: None if np.isnan(x) \n",
    "                                                       else ('Short' if x <= rt_t13 \n",
    "                                                             else ('Medium' if x <= rt_t23 else 'Long')))"
   ]
  },
  {
   "cell_type": "code",
   "execution_count": null,
   "metadata": {},
   "outputs": [],
   "source": [
    "df_finance = pd.read_csv(\"zippedData/tn.movie_budgets.csv.gz\")\n",
    "df_finance['release_date'] = pd.to_datetime(df_finance['release_date'])\n",
    "df_finance['year'] = df_finance['release_date'].dt.year\n",
    "df_finance = df_finance[df_finance['year']<2019].reset_index(drop=True)"
   ]
  },
  {
   "cell_type": "code",
   "execution_count": null,
   "metadata": {},
   "outputs": [],
   "source": [
    "# Import information about budgets and profits\n",
    "df_finance = pd.read_csv(\"zippedData/tn.movie_budgets.csv.gz\")\n",
    "\n",
    "df_finance['release_date'] = pd.to_datetime(df_finance['release_date'])\n",
    "\n",
    "columns_to_clean = ['domestic_gross', 'worldwide_gross', 'production_budget']\n",
    "\n",
    "for col in columns_to_clean:\n",
    "    df_finance[col] = df_finance[col].str.replace('[$,]', '', regex=True).astype(int)\n",
    "\n",
    "df_finance['domestic_profit'] = df_finance['domestic_gross'] - df_finance['production_budget']\n",
    "df_finance['domestic_roi'] = df_finance['domestic_profit']/df_finance['production_budget']\n",
    "\n",
    "df_finance['worldwide_profit'] = df_finance['worldwide_gross'] - df_finance['production_budget']\n",
    "df_finance['worldwide_roi'] = df_finance['worldwide_profit']/df_finance['production_budget']\n",
    "\n"
   ]
  },
  {
   "cell_type": "code",
   "execution_count": null,
   "metadata": {},
   "outputs": [],
   "source": [
    "print('Dataframe description:')\n",
    "print(df_finance.describe())\n",
    "print('\\n-----------------------------------------------------------')\n",
    "print('Dataframe info:')\n",
    "print(df_finance.info())\n",
    "print('\\ndf_finance first 5 rows:')\n",
    "df_finance.head()"
   ]
  },
  {
   "cell_type": "markdown",
   "metadata": {},
   "source": [
    "## Merge dataframes and visualize relationships"
   ]
  },
  {
   "cell_type": "code",
   "execution_count": null,
   "metadata": {},
   "outputs": [],
   "source": [
    "# Prepare columns to merge on\n",
    "df_imdb['primary_title'] = df_imdb['primary_title'].str.lower()\n",
    "df_imdb['primary_title'] = df_imdb['primary_title'].str.replace(r'\\([^)]*\\)', '', regex=True)\n",
    "\n",
    "df_finance['movie'] = df_finance['movie'].str.lower()\n",
    "df_finance['movie'] = df_finance['movie'].str.replace(r'\\([^)]*\\)', '', regex=True)"
   ]
  },
  {
   "cell_type": "code",
   "execution_count": null,
   "metadata": {},
   "outputs": [],
   "source": [
    "df_merge = pd.merge(df_finance, df_imdb, left_on='movie', right_on='primary_title', how='inner')\n",
    "\n",
    "print(f\"df shape before dropping duplicates = {df_merge.shape}\")\n",
    "df_merge = df_merge.drop_duplicates(subset='movie', keep='first')\n",
    "print(f\"df shape after dropping duplicates = {df_merge.shape}\\n\")\n",
    "\n",
    "print('Dataframe description:')\n",
    "print(df_merge.describe())\n",
    "print('\\n-----------------------------------------------------------')\n",
    "print('Dataframe info:')\n",
    "print(df_merge.info())\n",
    "print('\\ndf_merge first 5 rows:')\n",
    "df_merge.head()"
   ]
  },
  {
   "cell_type": "code",
   "execution_count": null,
   "metadata": {},
   "outputs": [],
   "source": [
    "# Increase the size using figsize argument\n",
    "axs = pd.plotting.scatter_matrix(df_merge[['production_budget', 'domestic_roi', 'worldwide_roi', 'runtime_minutes', 'averagerating']], figsize=(15, 15))\n",
    "\n",
    "# Rotate x-axis labels\n",
    "for ax in axs[:, 0]: # only the leftmost column\n",
    "    ax.xaxis.label.set_rotation(90)\n",
    "\n",
    "for ax in axs[-1, :]: # only the bottom row\n",
    "    ax.xaxis.label.set_rotation(0)\n",
    "    ax.xaxis.labelpad = 50\n",
    "\n",
    "# Adjust the layout\n",
    "plt.tight_layout()\n",
    "plt.show()"
   ]
  },
  {
   "cell_type": "markdown",
   "metadata": {},
   "source": [
    "## Most profitable genre"
   ]
  },
  {
   "cell_type": "code",
   "execution_count": null,
   "metadata": {},
   "outputs": [],
   "source": [
    "# Calculate and visualize most common genres \n",
    "all_genres = [item for sublist in df_merge['genres'] if sublist is not None for item in sublist]\n",
    "genre_counts = pd.Series(all_genres).value_counts(dropna=False)\n",
    "\n",
    "print(genre_counts) \n",
    "genre_counts.plot(kind='bar')"
   ]
  },
  {
   "cell_type": "code",
   "execution_count": null,
   "metadata": {},
   "outputs": [],
   "source": [
    "# Function to get lists of values for each genre\n",
    "def get_genre_vals(val, df):   \n",
    "    df_len = len(df)\n",
    "    all_genre_vals = {}\n",
    "    \n",
    "    for genre in genre_counts.index:    \n",
    "        genre_vals = df[df['genres'].apply(lambda x: genre in x if x is not None else False)][val].values\n",
    "        genre_len = len(genre_vals) \n",
    "        if genre_len < 30:\n",
    "            continue \n",
    "        diff_length = df_len - genre_len\n",
    "        genre_vals = np.concatenate([genre_vals, [np.nan]*diff_length])\n",
    "        all_genre_vals[genre] = genre_vals\n",
    "    all_genre_vals = pd.DataFrame(all_genre_vals)\n",
    "    all_genre_vals = all_genre_vals.dropna(how='all').reset_index(drop=True)\n",
    "    return all_genre_vals "
   ]
  },
  {
   "cell_type": "code",
   "execution_count": null,
   "metadata": {},
   "outputs": [],
   "source": [
    "fig, axes = plt.subplots(2, 2, figsize=(18, 12))\n",
    "\n",
    "# Get lists of budgets for each genre and plot\n",
    "genre_vals = get_genre_vals('production_budget', df_merge)\n",
    "mean_genre_vals = genre_vals.mean().sort_values(ascending=False)\n",
    "mean_genre_vals.plot.bar(ax=axes[0,0])\n",
    "axes[0,0].set_title('Production Budget By Genre')\n",
    "plt.tight_layout()\n",
    "\n",
    "# Get lists of worldwide gross earnings for each genre and plot\n",
    "genre_vals = get_genre_vals('worldwide_gross', df_merge)\n",
    "mean_genre_vals = genre_vals.mean().sort_values(ascending=False)\n",
    "mean_genre_vals.plot.bar(ax=axes[0,1])\n",
    "axes[0,1].set_title('Worldwide Revenue By Genre')\n",
    "\n",
    "# Get lists of worldwide gross profit for each genre and plot\n",
    "genre_vals = get_genre_vals('worldwide_profit', df_merge)\n",
    "mean_genre_vals = genre_vals.mean().sort_values(ascending=False)\n",
    "mean_genre_vals.plot.bar(ax=axes[1,0])\n",
    "axes[1,0].set_title('Worldwide Profit By Genre')\n",
    "\n",
    "# Get lists of worldwide gross profit for each genre and plot\n",
    "genre_vals = get_genre_vals('worldwide_roi', df_merge)\n",
    "mean_genre_vals = genre_vals.mean().sort_values(ascending=False)\n",
    "mean_genre_vals.plot.bar(ax=axes[1,1])\n",
    "axes[1,1].set_title('Worldwide ROI By Genre')"
   ]
  },
  {
   "cell_type": "code",
   "execution_count": null,
   "metadata": {},
   "outputs": [],
   "source": [
    "plt.figure(figsize=(10, 5))\n",
    "\n",
    "# Get lists of worldwide gross profit for each genre and plot\n",
    "genre_vals = get_genre_vals('worldwide_roi', df_merge)\n",
    "mean_genre_vals = genre_vals.mean().sort_values(ascending=False)\n",
    "\n",
    "\n",
    "sns.barplot(x=mean_genre_vals.index, y=mean_genre_vals.values, color='#54BDCA')\n",
    "\n",
    "# Customize the plot (e.g., set labels, rotate x-axis labels)\n",
    "plt.xticks(rotation=45)\n",
    "plt.xlabel('Genre', size=12)\n",
    "plt.ylabel('Mean Worldwide ROI', size=12)\n",
    "plt.title('Worldwide ROI by Genre')\n",
    "\n",
    "# Show the plot\n",
    "plt.tight_layout()\n",
    "sns.despine()"
   ]
  },
  {
   "cell_type": "code",
   "execution_count": null,
   "metadata": {},
   "outputs": [],
   "source": [
    "# Define the genres to check for\n",
    "genres_to_check = ['Mystery', 'Horror', 'Thriller']\n",
    "\n",
    "# Create the 'top_3_genres' column\n",
    "df_merge['top_3_genres'] = df_merge['genres'].apply(lambda x: [1 if (x is not None) and (genre in x) else 0 for genre in genres_to_check])\n",
    "df_merge['top_3_genres'] = df_merge['top_3_genres'].apply(tuple)\n",
    "df_merge.groupby('top_3_genres')['worldwide_roi'].mean()"
   ]
  },
  {
   "cell_type": "code",
   "execution_count": null,
   "metadata": {},
   "outputs": [],
   "source": [
    "plt.figure(figsize=(8, 5))\n",
    "\n",
    "['Mystery', 'Horror', 'Thriller']\n",
    "\n",
    "order = [(0,0,0), (1,0,0), (0,1,0), (0,0,1), (1,1,0), (1,0,1), (0,1,1), (1,1,1)]\n",
    "labels = ['No Top Genres', 'Mystery Only', 'Horror Only', 'Thriller Only',\n",
    "          'Mystery & Horror', 'Mystery & Thriller', 'Horror & Thriller', 'All Top Genres' ]\n",
    "          \n",
    "sns.boxplot(data =df_merge, x='top_3_genres', y='worldwide_roi', order = order, showfliers=False, color='#54BDCA')\n",
    "plt.xticks(range(len(order)), labels, rotation=25)\n",
    "plt.xlabel('\\nGenre Combinations', size=12)\n",
    "plt.ylabel('Mean Worldwide ROI', size=12)\n",
    "plt.title('Worldwide ROI by Genre Combinations')\n",
    "\n",
    "# Show the plot\n",
    "plt.tight_layout()\n",
    "sns.despine()"
   ]
  },
  {
   "cell_type": "code",
   "execution_count": null,
   "metadata": {},
   "outputs": [],
   "source": [
    "plt.figure(figsize=(8, 5))\n",
    "\n",
    "['Mystery', 'Horror', 'Thriller']\n",
    "\n",
    "order = [(0,0,0), (1,0,0), (0,1,0), (0,0,1), (1,1,0), (1,0,1), (0,1,1), (1,1,1)]\n",
    "labels = ['No Top Genres', 'Mystery Only', 'Horror Only', 'Thriller Only',\n",
    "          'Mystery & Horror', 'Mystery & Thriller', 'Horror & Thriller', 'All Top Genres' ]\n",
    "          \n",
    "sns.barplot(data =df_merge, x='top_3_genres', y='worldwide_roi', order = order, ci=False, color='#54BDCA')\n",
    "plt.xticks(range(len(order)), labels, rotation=25)\n",
    "plt.xlabel('\\nGenre Combinations', size=12)\n",
    "plt.ylabel('Mean Worldwide ROI', size=12)\n",
    "plt.title('Worldwide ROI by Genre Combinations')\n",
    "\n",
    "# Show the plot\n",
    "plt.tight_layout()\n",
    "sns.despine()"
   ]
  },
  {
   "cell_type": "code",
   "execution_count": null,
   "metadata": {},
   "outputs": [],
   "source": [
    "df_subset = df_merge[df_merge['top_3_genres'] == (1,1,1)].reset_index(drop=True)"
   ]
  },
  {
   "cell_type": "markdown",
   "metadata": {},
   "source": [
    "## Runtime"
   ]
  },
  {
   "cell_type": "code",
   "execution_count": null,
   "metadata": {},
   "outputs": [],
   "source": [
    "fig, axes = plt.subplots(1,2, figsize=(12,5))\n",
    "\n",
    "sns.barplot(x='rt_cat', y='worldwide_roi', data=df_merge, order=[\"Short\", \"Medium\", \"Long\"], ax=axes[0], color='#54BDCA')\n",
    "axes[0].set_title('ROI By Movie Lengths \\n All Movies')\n",
    "axes[0].set_ylabel('Mean Worldwide ROI')\n",
    "axes[0].set_xlabel('\\nMovie Length')\n",
    "\n",
    "sns.barplot(x='rt_cat', y='worldwide_roi', data=df_subset, order=[\"Short\", \"Medium\", \"Long\"], ax=axes[1], color='#54BDCA')\n",
    "axes[1].set_title('ROI By Movie Lengths \\n Top Genres')\n",
    "axes[1].set_ylabel('Mean Worldwide ROI')\n",
    "axes[1].set_xlabel('\\nMovie Length')\n",
    "\n",
    "plt.tight_layout()\n",
    "sns.despine()"
   ]
  },
  {
   "cell_type": "markdown",
   "metadata": {},
   "source": [
    "## Annual Trends"
   ]
  },
  {
   "cell_type": "code",
   "execution_count": null,
   "metadata": {},
   "outputs": [],
   "source": [
    "df_merge['release_date'] = pd.to_datetime(df_merge['release_date'])\n",
    "df_merge['month'] = df_merge['release_date'].dt.month\n",
    "\n",
    "df_subset['release_date'] = pd.to_datetime(df_subset['release_date'])\n",
    "df_subset['month'] = df_subset['release_date'].dt.month"
   ]
  },
  {
   "cell_type": "code",
   "execution_count": null,
   "metadata": {},
   "outputs": [],
   "source": [
    "fig, axes = plt.subplots(1,2, figsize=(12,5))\n",
    "\n",
    "df_merge.groupby('month')['worldwide_roi'].mean().plot(kind='line', ax=axes[0])\n",
    "axes[0].set_title('ROI Across Months \\n All Movies')\n",
    "axes[0].set_xlabel('\\nMonth', size=12)\n",
    "axes[0].set_ylabel('Worldwide ROI\\n', size=12)\n",
    "axes[0].set_xticks(range(1,13))\n",
    "axes[0].set_xticklabels(['Jan', 'Feb', 'Mar', 'Apr', 'May', 'Jun', 'Jul', 'Aug', 'Sep', 'Oct', 'Nov', 'Dec'])\n",
    "\n",
    "df_subset.groupby('month')['worldwide_roi'].mean().plot(kind='line', ax=axes[1])\n",
    "axes[1].set_title('ROI Across Months \\n Top Genres')\n",
    "axes[1].set_xlabel('\\nMonth', size=12)\n",
    "axes[1].set_ylabel('Worldwide ROI\\n', size=12)\n",
    "axes[1].set_xticks(range(1,13))\n",
    "axes[1].set_xticklabels(['Jan', 'Feb', 'Mar', 'Apr', 'May', 'Jun', 'Jul', 'Aug', 'Sep', 'Oct', 'Nov', 'Dec'])\n",
    "\n",
    "plt.tight_layout()\n",
    "sns.despine()"
   ]
  },
  {
   "cell_type": "code",
   "execution_count": null,
   "metadata": {},
   "outputs": [],
   "source": [
    "fig, axes = plt.subplots(1,2, figsize=(12,5))\n",
    "\n",
    "df_merge.groupby('month')['worldwide_profit'].mean().plot(kind='line', ax=axes[0])\n",
    "axes[0].set_title('Worldwide Profit Across Months \\n All Movies')\n",
    "axes[0].set_xlabel('\\nMonth', size=12)\n",
    "axes[0].set_ylabel('Worldwide Profit\\n', size=12)\n",
    "axes[0].set_xticks(range(1,13))\n",
    "axes[0].set_xticklabels(['Jan', 'Feb', 'Mar', 'Apr', 'May', 'Jun', 'Jul', 'Aug', 'Sep', 'Oct', 'Nov', 'Dec'])\n",
    "\n",
    "df_subset.groupby('month')['worldwide_profit'].mean().plot(kind='line', ax=axes[1])\n",
    "axes[1].set_title('Worldwide Profit Across Months \\n Top Genres')\n",
    "axes[1].set_xlabel('\\nMonth', size=12)\n",
    "axes[1].set_ylabel('Worldwide Profit\\n', size=12)\n",
    "axes[1].set_xticks(range(1,13))\n",
    "axes[1].set_xticklabels(['Jan', 'Feb', 'Mar', 'Apr', 'May', 'Jun', 'Jul', 'Aug', 'Sep', 'Oct', 'Nov', 'Dec'])\n",
    "\n",
    "plt.tight_layout()\n",
    "sns.despine()"
   ]
  },
  {
   "cell_type": "markdown",
   "metadata": {},
   "source": [
    "## Writers & Directors"
   ]
  },
  {
   "cell_type": "code",
   "execution_count": null,
   "metadata": {},
   "outputs": [],
   "source": [
    "#df_subset['director'] = np.nan()\n",
    "\n",
    "dir_list = []\n",
    "\n",
    "for i in range(len(df_subset)):\n",
    "    curr_dir_list = directors[directors['movie_id']==df_subset.iloc[i]['movie_id']]['director'].unique()\n",
    "    dir_list.append(curr_dir_list)\n",
    "        \n",
    "df_subset['director'] = dir_list\n",
    "df_subset"
   ]
  },
  {
   "cell_type": "code",
   "execution_count": null,
   "metadata": {},
   "outputs": [],
   "source": [
    "#df_subset['director'] = np.nan()\n",
    "\n",
    "wri_list = []\n",
    "\n",
    "for i in range(len(df_subset)):\n",
    "    curr_wri_list = writers[writers['movie_id']==df_subset.iloc[i]['movie_id']]['writer'].unique()\n",
    "    wri_list.append(curr_wri_list)\n",
    "        \n",
    "df_subset['writer'] = wri_list\n",
    "df_subset"
   ]
  },
  {
   "cell_type": "code",
   "execution_count": null,
   "metadata": {},
   "outputs": [],
   "source": []
  }
 ],
 "metadata": {
  "kernelspec": {
   "display_name": "Python (learn-env)",
   "language": "python",
   "name": "learn-env"
  },
  "language_info": {
   "codemirror_mode": {
    "name": "ipython",
    "version": 3
   },
   "file_extension": ".py",
   "mimetype": "text/x-python",
   "name": "python",
   "nbconvert_exporter": "python",
   "pygments_lexer": "ipython3",
   "version": "3.9.18"
  }
 },
 "nbformat": 4,
 "nbformat_minor": 4
}
